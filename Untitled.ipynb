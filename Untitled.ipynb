{
 "cells": [
  {
   "cell_type": "code",
   "execution_count": 1,
   "metadata": {},
   "outputs": [],
   "source": [
    "import pandas as pd\n",
    "import numpy as np\n",
    "import matplotlib.pyplot as plt"
   ]
  },
  {
   "cell_type": "markdown",
   "metadata": {},
   "source": [
    "# Alexnet"
   ]
  },
  {
   "cell_type": "code",
   "execution_count": 2,
   "metadata": {},
   "outputs": [],
   "source": [
    "data = pd.read_csv(\"best_predictions/AlexNet.csv\")"
   ]
  },
  {
   "cell_type": "code",
   "execution_count": 11,
   "metadata": {},
   "outputs": [
    {
     "name": "stdout",
     "output_type": "stream",
     "text": [
      "              precision    recall  f1-score   support\n",
      "\n",
      "           0       0.77      1.00      0.87     20672\n",
      "           1       0.00      0.00      0.00      6012\n",
      "\n",
      "    accuracy                           0.77     26684\n",
      "   macro avg       0.39      0.50      0.44     26684\n",
      "weighted avg       0.60      0.77      0.68     26684\n",
      "\n"
     ]
    }
   ],
   "source": [
    "from sklearn.metrics import classification_report\n",
    "print(classification_report(data.Target, data.predicted))"
   ]
  },
  {
   "cell_type": "code",
   "execution_count": 13,
   "metadata": {},
   "outputs": [
    {
     "name": "stdout",
     "output_type": "stream",
     "text": [
      "              precision    recall  f1-score   support\n",
      "\n",
      "           0       0.78      0.99      0.87     20672\n",
      "           1       0.62      0.07      0.12      6012\n",
      "\n",
      "    accuracy                           0.78     26684\n",
      "   macro avg       0.70      0.53      0.50     26684\n",
      "weighted avg       0.75      0.78      0.70     26684\n",
      "\n"
     ]
    }
   ],
   "source": [
    "data = pd.read_csv(\"best_predictions/AlexNet_no_augmentation.csv\")\n",
    "print(classification_report(data.Target, data.predicted))"
   ]
  },
  {
   "cell_type": "code",
   "execution_count": 14,
   "metadata": {},
   "outputs": [
    {
     "name": "stdout",
     "output_type": "stream",
     "text": [
      "              precision    recall  f1-score   support\n",
      "\n",
      "           0       0.78      0.98      0.87     20672\n",
      "           1       0.56      0.07      0.12      6012\n",
      "\n",
      "    accuracy                           0.78     26684\n",
      "   macro avg       0.67      0.53      0.50     26684\n",
      "weighted avg       0.73      0.78      0.70     26684\n",
      "\n"
     ]
    }
   ],
   "source": [
    "data = pd.read_csv(\"best_predictions/inception_v3_balanced.csv\")\n",
    "print(classification_report(data.Target, data.predicted))"
   ]
  },
  {
   "cell_type": "code",
   "execution_count": 15,
   "metadata": {},
   "outputs": [
    {
     "name": "stdout",
     "output_type": "stream",
     "text": [
      "              precision    recall  f1-score   support\n",
      "\n",
      "           0       0.79      0.98      0.87     20672\n",
      "           1       0.58      0.07      0.13      6012\n",
      "\n",
      "    accuracy                           0.78     26684\n",
      "   macro avg       0.68      0.53      0.50     26684\n",
      "weighted avg       0.74      0.78      0.71     26684\n",
      "\n"
     ]
    }
   ],
   "source": [
    "data = pd.read_csv(\"best_predictions/inception_v3_horizontal_flip.csv\")\n",
    "print(classification_report(data.Target, data.predicted))"
   ]
  },
  {
   "cell_type": "code",
   "execution_count": 16,
   "metadata": {},
   "outputs": [
    {
     "name": "stdout",
     "output_type": "stream",
     "text": [
      "              precision    recall  f1-score   support\n",
      "\n",
      "           0       0.78      0.99      0.87     20672\n",
      "           1       0.60      0.07      0.12      6012\n",
      "\n",
      "    accuracy                           0.78     26684\n",
      "   macro avg       0.69      0.53      0.50     26684\n",
      "weighted avg       0.74      0.78      0.70     26684\n",
      "\n"
     ]
    }
   ],
   "source": [
    "data = pd.read_csv(\"best_predictions/resnet50.csv\")\n",
    "print(classification_report(data.Target, data.predicted))"
   ]
  },
  {
   "cell_type": "code",
   "execution_count": null,
   "metadata": {},
   "outputs": [],
   "source": []
  }
 ],
 "metadata": {
  "kernelspec": {
   "display_name": "Python 3",
   "language": "python",
   "name": "python3"
  },
  "language_info": {
   "codemirror_mode": {
    "name": "ipython",
    "version": 3
   },
   "file_extension": ".py",
   "mimetype": "text/x-python",
   "name": "python",
   "nbconvert_exporter": "python",
   "pygments_lexer": "ipython3",
   "version": "3.7.4"
  }
 },
 "nbformat": 4,
 "nbformat_minor": 2
}

{
 "cells": [
  {
   "cell_type": "code",
   "execution_count": 13,
   "metadata": {},
   "outputs": [],
   "source": [
    "import pandas as pd\n",
    "import numpy as np\n",
    "import matplotlib.pyplot as plt\n",
    "from sklearn.metrics import roc_auc_score"
   ]
  },
  {
   "cell_type": "markdown",
   "metadata": {},
   "source": [
    "# Alexnet"
   ]
  },
  {
   "cell_type": "code",
   "execution_count": 15,
   "metadata": {},
   "outputs": [],
   "source": [
    "data = pd.read_csv(\"best_predictions/AlexNet.csv\")"
   ]
  },
  {
   "cell_type": "code",
   "execution_count": 16,
   "metadata": {},
   "outputs": [
    {
     "name": "stdout",
     "output_type": "stream",
     "text": [
      "              precision    recall  f1-score   support\n",
      "\n",
      "           0       0.77      1.00      0.87      2055\n",
      "           1       0.00      0.00      0.00       614\n",
      "\n",
      "    accuracy                           0.77      2669\n",
      "   macro avg       0.38      0.50      0.44      2669\n",
      "weighted avg       0.59      0.77      0.67      2669\n",
      "\n",
      "AUC score \n"
     ]
    },
    {
     "name": "stderr",
     "output_type": "stream",
     "text": [
      "/home/chekirou/anaconda3/lib/python3.7/site-packages/sklearn/metrics/classification.py:1437: UndefinedMetricWarning: Precision and F-score are ill-defined and being set to 0.0 in labels with no predicted samples.\n",
      "  'precision', 'predicted', average, warn_for)\n"
     ]
    },
    {
     "data": {
      "text/plain": [
       "0.5"
      ]
     },
     "execution_count": 16,
     "metadata": {},
     "output_type": "execute_result"
    }
   ],
   "source": [
    "from sklearn.metrics import classification_report\n",
    "print(classification_report(data.Target, data.predicted))\n",
    "print(\"AUC score \")\n",
    "roc_auc_score(data.Target, data.predicted)"
   ]
  },
  {
   "cell_type": "code",
   "execution_count": 17,
   "metadata": {},
   "outputs": [
    {
     "name": "stdout",
     "output_type": "stream",
     "text": [
      "              precision    recall  f1-score   support\n",
      "\n",
      "           0       0.89      0.88      0.89      2055\n",
      "           1       0.62      0.65      0.64       614\n",
      "\n",
      "    accuracy                           0.83      2669\n",
      "   macro avg       0.76      0.77      0.76      2669\n",
      "weighted avg       0.83      0.83      0.83      2669\n",
      "\n",
      "AUC score \n"
     ]
    },
    {
     "data": {
      "text/plain": [
       "0.766449907669385"
      ]
     },
     "execution_count": 17,
     "metadata": {},
     "output_type": "execute_result"
    }
   ],
   "source": [
    "data = pd.read_csv(\"best_predictions/AlexNet_no_augmentation.csv\")\n",
    "print(classification_report(data.Target, data.predicted))\n",
    "print(\"AUC score \")\n",
    "roc_auc_score(data.Target, data.predicted)"
   ]
  },
  {
   "cell_type": "markdown",
   "metadata": {},
   "source": [
    "# Inception V3"
   ]
  },
  {
   "cell_type": "code",
   "execution_count": 18,
   "metadata": {},
   "outputs": [
    {
     "name": "stdout",
     "output_type": "stream",
     "text": [
      "              precision    recall  f1-score   support\n",
      "\n",
      "           0       0.89      0.84      0.87      2055\n",
      "           1       0.56      0.66      0.61       614\n",
      "\n",
      "    accuracy                           0.80      2669\n",
      "   macro avg       0.73      0.75      0.74      2669\n",
      "weighted avg       0.82      0.80      0.81      2669\n",
      "\n",
      "AUC score \n"
     ]
    },
    {
     "data": {
      "text/plain": [
       "0.7528444169698123"
      ]
     },
     "execution_count": 18,
     "metadata": {},
     "output_type": "execute_result"
    }
   ],
   "source": [
    "data = pd.read_csv(\"best_predictions/inception_v3_balanced.csv\")\n",
    "print(classification_report(data.Target, data.predicted))\n",
    "print(\"AUC score \")\n",
    "roc_auc_score(data.Target, data.predicted)"
   ]
  },
  {
   "cell_type": "code",
   "execution_count": 19,
   "metadata": {},
   "outputs": [
    {
     "name": "stdout",
     "output_type": "stream",
     "text": [
      "              precision    recall  f1-score   support\n",
      "\n",
      "           0       0.91      0.84      0.88      2055\n",
      "           1       0.58      0.73      0.65       614\n",
      "\n",
      "    accuracy                           0.82      2669\n",
      "   macro avg       0.75      0.79      0.76      2669\n",
      "weighted avg       0.84      0.82      0.82      2669\n",
      "\n",
      "AUC score \n"
     ]
    },
    {
     "data": {
      "text/plain": [
       "0.7864008496001648"
      ]
     },
     "execution_count": 19,
     "metadata": {},
     "output_type": "execute_result"
    }
   ],
   "source": [
    "data = pd.read_csv(\"best_predictions/inception_v3_horizontal_flip.csv\")\n",
    "print(classification_report(data.Target, data.predicted))\n",
    "print(\"AUC score \")\n",
    "roc_auc_score(data.Target, data.predicted)"
   ]
  },
  {
   "cell_type": "markdown",
   "metadata": {},
   "source": [
    "# Resnet 50"
   ]
  },
  {
   "cell_type": "code",
   "execution_count": 20,
   "metadata": {},
   "outputs": [
    {
     "name": "stdout",
     "output_type": "stream",
     "text": [
      "              precision    recall  f1-score   support\n",
      "\n",
      "           0       0.90      0.87      0.88      2055\n",
      "           1       0.60      0.67      0.63       614\n",
      "\n",
      "    accuracy                           0.82      2669\n",
      "   macro avg       0.75      0.77      0.76      2669\n",
      "weighted avg       0.83      0.82      0.83      2669\n",
      "\n",
      "AUC score \n"
     ]
    },
    {
     "data": {
      "text/plain": [
       "0.7684260998438701"
      ]
     },
     "execution_count": 20,
     "metadata": {},
     "output_type": "execute_result"
    }
   ],
   "source": [
    "data = pd.read_csv(\"best_predictions/resnet50.csv\")\n",
    "print(classification_report(data.Target, data.predicted))\n",
    "print(\"AUC score \")\n",
    "roc_auc_score(data.Target, data.predicted)"
   ]
  },
  {
   "cell_type": "code",
   "execution_count": 25,
   "metadata": {},
   "outputs": [
    {
     "name": "stdout",
     "output_type": "stream",
     "text": [
      "              precision    recall  f1-score   support\n",
      "\n",
      "           0       0.79      0.96      0.87     20672\n",
      "           1       0.49      0.13      0.20      6012\n",
      "\n",
      "    accuracy                           0.77     26684\n",
      "   macro avg       0.64      0.54      0.53     26684\n",
      "weighted avg       0.72      0.77      0.72     26684\n",
      "\n",
      "AUC score \n"
     ]
    },
    {
     "data": {
      "text/plain": [
       "0.5435621758289406"
      ]
     },
     "execution_count": 25,
     "metadata": {},
     "output_type": "execute_result"
    }
   ],
   "source": [
    "data = pd.read_csv(\"predictions/resnet18_balanced.csv\")\n",
    "print(classification_report(data.Target, data.predicted))\n",
    "print(\"AUC score \")\n",
    "roc_auc_score(data.Target, data.predicted)"
   ]
  },
  {
   "cell_type": "code",
   "execution_count": null,
   "metadata": {},
   "outputs": [],
   "source": []
  }
 ],
 "metadata": {
  "kernelspec": {
   "display_name": "Python 3",
   "language": "python",
   "name": "python3"
  },
  "language_info": {
   "codemirror_mode": {
    "name": "ipython",
    "version": 3
   },
   "file_extension": ".py",
   "mimetype": "text/x-python",
   "name": "python",
   "nbconvert_exporter": "python",
   "pygments_lexer": "ipython3",
   "version": "3.7.4"
  }
 },
 "nbformat": 4,
 "nbformat_minor": 2
}
